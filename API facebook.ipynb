{
 "cells": [
  {
   "cell_type": "markdown",
   "metadata": {},
   "source": [
    "# python program to connect to FACEBBOK API and scrap info"
   ]
  },
  {
   "cell_type": "code",
   "execution_count": 19,
   "metadata": {
    "collapsed": true
   },
   "outputs": [],
   "source": [
    "#Import\n",
    "import requests\n",
    "import json\n",
    "import facebook\n"
   ]
  },
  {
   "cell_type": "code",
   "execution_count": 20,
   "metadata": {
    "scrolled": true
   },
   "outputs": [
    {
     "name": "stdout",
     "output_type": "stream",
     "text": [
      "<facebook.GraphAPI object at 0x0000000006D33EB8>\n"
     ]
    }
   ],
   "source": [
    "#connection to the graph\n",
    "#need an access token from this page : https://developers.facebook.com/tools/explorer/\n",
    "graph = facebook.GraphAPI(access_token=\"EAACEdEose0cBAEl5qcPhv9FHvQQT8KZAZBqhlTqV9yLxuLkec3R1UbHpbmbOe1qJhPKaSO2jZCwhdf7NQY7J6dvZCQBbar7906ZBvFpxj7vIrZCfaZBEGrSZAWktbTmQZA0hHwyIVrnM244AZAYsU3EKb6QjlM2jv6udZByzJsxdWiZCsDZBNQ3gMvYL5XLudzTbaLfGP644BJGh6JQZDZD\", version=\"2.6\")\n",
    "print(graph)\n"
   ]
  },
  {
   "cell_type": "markdown",
   "metadata": {},
   "source": [
    "# Page Scrapping"
   ]
  },
  {
   "cell_type": "markdown",
   "metadata": {},
   "source": [
    "### Get posts information "
   ]
  },
  {
   "cell_type": "code",
   "execution_count": 21,
   "metadata": {},
   "outputs": [
    {
     "name": "stdout",
     "output_type": "stream",
     "text": [
      "<type 'dict'>\n",
      "{u'paging': {u'next': u'https://graph.facebook.com/v2.6/607326919424767/posts?access_token=EAACEdEose0cBAEl5qcPhv9FHvQQT8KZAZBqhlTqV9yLxuLkec3R1UbHpbmbOe1qJhPKaSO2jZCwhdf7NQY7J6dvZCQBbar7906ZBvFpxj7vIrZCfaZBEGrSZAWktbTmQZA0hHwyIVrnM244AZAYsU3EKb6QjlM2jv6udZByzJsxdWiZCsDZBNQ3gMvYL5XLudzTbaLfGP644BJGh6JQZDZD&limit=25&until=1511028001&__paging_token=enc_AdBZCTKtKvurmZBG7g8GyI2utid51RKq0GnMBghDngVfFfK5YlLhVcN9uXibbYd3Ej2lEfs02SZAwFBW71uAbAIPdWcy7wtvRo4HTRNuwutfbxy4QZDZD', u'previous': u'https://graph.facebook.com/v2.6/607326919424767/posts?since=1512397201&access_token=EAACEdEose0cBAEl5qcPhv9FHvQQT8KZAZBqhlTqV9yLxuLkec3R1UbHpbmbOe1qJhPKaSO2jZCwhdf7NQY7J6dvZCQBbar7906ZBvFpxj7vIrZCfaZBEGrSZAWktbTmQZA0hHwyIVrnM244AZAYsU3EKb6QjlM2jv6udZByzJsxdWiZCsDZBNQ3gMvYL5XLudzTbaLfGP644BJGh6JQZDZD&limit=25&__paging_token=enc_AdAH42O4J5ojO3bBI4ZAVZBvB1EibiWOrcDeiuumCZCiNUW5vbn15uwfwxyzKSANUtguKLk7pveJgumboRFicYPijU4gO4cNrVSiByQmInJZAKhbzQZDZD&__previous=1'}, u'data': [{u'created_time': u'2017-12-04T14:20:01+0000', u'message': u'Hot Springs with an INCREDIBLE view! \\U0001f60d\\n\\U0001f30f Japan\\n\\U0001f3a5 monique_trips', u'id': u'607326919424767_995556340601821'}, {u'created_time': u'2017-12-02T15:00:01+0000', u'message': u'Magic Mountains?! Yes please! \\U0001f60d\\u2728 \\n \\U0001f30f Las Vegas, USA', u'id': u'607326919424767_993879594102829'}, {u'created_time': u'2017-12-01T20:00:02+0000', u'message': u\"Amazing street performer covers Bastille's 'Pompeii'! \\U0001f632\\n\\U0001f30d Pitt Street Mall, Sydney \\n\\U0001f3a5 Morf Music\", u'id': u'607326919424767_993168824173906'}, {u'created_time': u'2017-12-01T14:24:15+0000', u'message': u'How cool is this Bubble Hotel?! \\U0001f60d\\U0001f64c\\n\\U0001f30e France \\n\\U0001f3a5 Video Vision 360', u'id': u'607326919424767_993756194115169'}, {u'created_time': u'2017-11-30T18:00:01+0000', u'message': u\"This fence is full of bras! \\U0001f602 Tag and share with a friend who'd do this \\U0001f447\\n\\U0001f30e Central Otago, New Zealand\\n\\U0001f3a5 sidmaderazo\", u'id': u'607326919424767_993257274165061'}, {u'created_time': u'2017-11-30T13:00:02+0000', u'message': u\"Sliding into the weekend like... \\U0001f602 Tag and share with a friend you'd do this with \\U0001f447\\n\\U0001f30f Brazil \\n\\U0001f3a5 dianaferreira18\", u'id': u'607326919424767_993176434173145'}, {u'created_time': u'2017-11-29T18:00:02+0000', u'message': u\"Inflatable Float Adventure! \\U0001f60d Tag a friend you'd do this with\\U0001f447\\n\\U0001f3a5 Foureyestwosouls - Juhani & Katri\", u'id': u'607326919424767_992463007577821'}, {u'created_time': u'2017-11-29T13:00:02+0000', u'message': u'Incredible glass-bottom pool on a 500m cliff?! \\U0001f631\\U0001f60d \\n\\U0001f30e Bali', u'id': u'607326919424767_992422674248521'}, {u'created_time': u'2017-11-28T18:00:00+0000', u'message': u'Deer Park in Japan! \\U0001f60d\\U0001f1ef\\U0001f1f5', u'id': u'607326919424767_991850164305772'}, {u'created_time': u'2017-11-28T15:30:01+0000', u'message': u'Explore Russia in 360! \\U0001f60d \\n\\U0001f30d Yamal Peninsula\\n\\U0001f4f8 AirPano', u'id': u'607326919424767_991854990971956'}, {u'created_time': u'2017-11-27T18:00:00+0000', u'message': u'Most beautiful hotel-suite ever?! \\U0001f60d\\U0001f1ec\\U0001f1f7', u'id': u'607326919424767_991343067689815'}, {u'created_time': u'2017-11-27T13:00:01+0000', u'message': u'LARGEST Hot Air Balloon Festival in the World! \\U0001f60d\\n\\U0001f30e Albuquerque, United States \\n\\U0001f3a5 Amazing Places On Our Planet', u'id': u'607326919424767_991193501038105'}, {u'created_time': u'2017-11-24T18:00:02+0000', u'message': u'91-FOOT AQUARIUM POOL IN VILLA?! \\U0001f632 \\n\\U0001f30f Villa on the Rocks, France\\n\\U0001f3a5 Video Vision 360', u'id': u'607326919424767_988978597926262'}, {u'created_time': u'2017-11-24T13:00:00+0000', u'message': u'Real-life TREEHOUSE?! \\U0001f60d\\U0001f334\\n\\U0001f30e Tupper Lake, NY\\n\\U0001f3a5 LuyLife', u'id': u'607326919424767_989440841213371'}, {u'created_time': u'2017-11-23T18:00:00+0000', u'message': u'Heavenly Cat Sanctuary in Hawaiian Paradise! \\U0001f63b\\U0001f3d6\\n\\U0001f3a5 Lanai Cat Sanctuary', u'id': u'607326919424767_988900877934034'}, {u'created_time': u'2017-11-23T13:00:01+0000', u'message': u\"Wall of chewing gum?! \\U0001f922 Tag a friend you'd go here with \\U0001f447\\n\\U0001f30e Seattle\", u'id': u'607326919424767_988798017944320'}, {u'created_time': u'2017-11-22T18:00:00+0000', u'message': u\"'The Final Countdown' on a Giant Foot Piano \\U0001f60d\\n\\U0001f30f Varazdin, Croatia\\n\\U0001f3a5 il Grande Piano\", u'id': u'607326919424767_988366577987464'}, {u'created_time': u'2017-11-22T13:00:00+0000', u'message': u'Iceland is breathtaking! \\U0001f60d \\n\\U0001f30e Iceland\\n\\U0001f3a5 Wildworld', u'id': u'607326919424767_988186558005466'}, {u'created_time': u'2017-11-21T21:12:21+0000', u'message': u'Swimming with sharks?! \\U0001f988\\U0001f631\\n\\U0001f30e Bahamas\\n\\U0001f3a5 jojodegroof', u'id': u'607326919424767_987756411381814'}, {u'created_time': u'2017-11-21T15:06:10+0000', u'message': u'This Natural Waterslide ROCKS! \\U0001f60d\\U0001f64c\\n \\n\\U0001f30f North Carolina, United States', u'id': u'607326919424767_987244914766297'}, {u'created_time': u'2017-11-20T18:00:00+0000', u'message': u'Suki the travelling cat! \\U0001f431\\U0001f60d\\n\\U0001f3a5 Suki The Cat', u'id': u'607326919424767_985098591647596'}, {u'created_time': u'2017-11-20T15:02:29+0000', u'message': u\"World's Most Famous Swing! \\U0001f631 Tag a friend you'd try this with \\U0001f447\\U0001f3fb\\n \\n\\U0001f30f Queenstown, New Zealand\", u'id': u'607326919424767_987070161450439'}, {u'created_time': u'2017-11-20T12:42:43+0000', u'message': u'Share if you can relate \\U0001f602', u'id': u'607326919424767_986950381462417'}, {u'created_time': u'2017-11-19T18:00:00+0000', u'message': u'Explore the Maldives in VR 360! \\U0001f60d\\n\\U0001f30f Amilla Fushi, Maldives\\n\\U0001f3a5 Sam Earp', u'id': u'607326919424767_984617488362373'}, {u'created_time': u'2017-11-18T18:00:01+0000', u'message': u\"100% Clear Kayaks?! \\U0001f62e\\U0001f6a3\\u200d\\u2640\\ufe0f Tag a friend you'd do this with\\U0001f447\", u'id': u'607326919424767_984496851707770'}]}\n"
     ]
    }
   ],
   "source": [
    "posts = graph.get_object('lovetravel/posts')\n",
    "print(type(posts))\n",
    "print(posts)"
   ]
  },
  {
   "cell_type": "code",
   "execution_count": 22,
   "metadata": {},
   "outputs": [
    {
     "name": "stdout",
     "output_type": "stream",
     "text": [
      "raw data of last message :{u'created_time': u'2017-12-04T14:20:01+0000', u'message': u'Hot Springs with an INCREDIBLE view! \\U0001f60d\\n\\U0001f30f Japan\\n\\U0001f3a5 monique_trips', u'id': u'607326919424767_995556340601821'}\n",
      "message: Hot Springs with an INCREDIBLE view! 😍\n",
      "🌏 Japan\n",
      "🎥 monique_trips\n"
     ]
    }
   ],
   "source": [
    "print(\"raw data of last message :\" + str(posts['data'][0]))\n",
    "print \"message: \"+ posts['data'][0]['message']"
   ]
  },
  {
   "cell_type": "markdown",
   "metadata": {},
   "source": [
    "### GET ATTACHEMENT OF A POST (Video, Image..;)"
   ]
  },
  {
   "cell_type": "code",
   "execution_count": 23,
   "metadata": {},
   "outputs": [
    {
     "name": "stdout",
     "output_type": "stream",
     "text": [
      "[{u'attachments': {u'data': [{u'url': u'https://www.facebook.com/lovetravel/videos/995556340601821/', u'media': {u'image': {u'src': u'https://scontent.xx.fbcdn.net/v/t15.0-10/p720x720/24243572_995559210601534_7328429751440244736_n.jpg?oh=0cd8f5bdb282680d6319c6260e84bf94&oe=5AD4CD71', u'width': 720, u'height': 720}}, u'type': u'video_inline', u'target': {u'url': u'https://www.facebook.com/lovetravel/videos/995556340601821/', u'id': u'995556340601821'}, u'title': u'Hot Springs with an INCREDIBLE view!'}]}, u'object_id': u'995556340601821', u'full_picture': u'https://scontent.xx.fbcdn.net/v/t15.0-10/p720x720/24243572_995559210601534_7328429751440244736_n.jpg?oh=0cd8f5bdb282680d6319c6260e84bf94&oe=5AD4CD71', u'source': u'https://video.xx.fbcdn.net/v/t42.1790-2/24641624_370991709992990_8955529707248418816_n.mp4?efg=eyJybHIiOjUyNywicmxhIjo1MTIsInZlbmNvZGVfdGFnIjoic3ZlX3NkIn0%3D&rl=527&vabr=293&oh=0f30987526cf2f20bb510f454081ea21&oe=5A284B69', u'message': u'Hot Springs with an INCREDIBLE view! \\U0001f60d\\n\\U0001f30f Japan\\n\\U0001f3a5 monique_trips', u'id': u'607326919424767_995556340601821'}, {u'attachments': {u'data': [{u'url': u'https://www.facebook.com/lovetravel/videos/993879594102829/', u'media': {u'image': {u'src': u'https://scontent.xx.fbcdn.net/v/t15.0-10/p720x720/24187132_993880554102733_1786053461322760192_n.jpg?oh=443d74d75ab30f3a3a63d25ab35630a0&oe=5A931E0C', u'width': 720, u'height': 720}}, u'type': u'video_inline', u'target': {u'url': u'https://www.facebook.com/lovetravel/videos/993879594102829/', u'id': u'993879594102829'}, u'title': u'Magic Mountains?!'}]}, u'object_id': u'993879594102829', u'full_picture': u'https://scontent.xx.fbcdn.net/v/t15.0-10/p720x720/24187132_993880554102733_1786053461322760192_n.jpg?oh=443d74d75ab30f3a3a63d25ab35630a0&oe=5A931E0C', u'source': u'https://video.xx.fbcdn.net/v/t42.1790-2/24190827_404328353319548_1596900395777523712_n.mp4?efg=eyJybHIiOjU3OSwicmxhIjo1MTIsInZlbmNvZGVfdGFnIjoic3ZlX3NkIn0%3D&rl=579&vabr=322&oh=97a4ccda5a97aa1e24652249ab961e79&oe=5A2774F8', u'message': u'Magic Mountains?! Yes please! \\U0001f60d\\u2728 \\n \\U0001f30f Las Vegas, USA', u'id': u'607326919424767_993879594102829'}, {u'attachments': {u'data': [{u'url': u'https://www.facebook.com/lovetravel/videos/993168824173906/', u'media': {u'image': {u'src': u'https://scontent.xx.fbcdn.net/v/t15.0-10/p720x720/24286236_993174267506695_6306267452418293760_n.jpg?oh=fe725e35a1f4d5bde0cecdf225fb7ffd&oe=5A93B581', u'width': 720, u'height': 720}}, u'type': u'video_inline', u'target': {u'url': u'https://www.facebook.com/lovetravel/videos/993168824173906/', u'id': u'993168824173906'}, u'title': u\"Amazing street performer covers Bastille's 'Pompeii'!\"}]}, u'object_id': u'993168824173906', u'full_picture': u'https://scontent.xx.fbcdn.net/v/t15.0-10/p720x720/24286236_993174267506695_6306267452418293760_n.jpg?oh=fe725e35a1f4d5bde0cecdf225fb7ffd&oe=5A93B581', u'source': u'https://video.xx.fbcdn.net/v/t42.1790-2/10000000_150941865529174_1108939261379346432_n.mp4?efg=eyJybHIiOjc1NCwicmxhIjozNDkwLCJ2ZW5jb2RlX3RhZyI6InN2ZV9zZCJ9&rl=754&vabr=419&oh=a183d5e98b2bf9de7f7f0a43b715b4f9&oe=5A273C1B', u'message': u\"Amazing street performer covers Bastille's 'Pompeii'! \\U0001f632\\n\\U0001f30d Pitt Street Mall, Sydney \\n\\U0001f3a5 Morf Music\", u'id': u'607326919424767_993168824173906'}, {u'attachments': {u'data': [{u'url': u'https://www.facebook.com/lovetravel/videos/993756194115169/', u'media': {u'image': {u'src': u'https://scontent.xx.fbcdn.net/v/t15.0-10/p720x720/24134214_993757897448332_863344840891432960_n.jpg?oh=29a903d2c5efcaf33b73291e1472c0a6&oe=5A9CAE9C', u'width': 720, u'height': 720}}, u'type': u'video_inline', u'target': {u'url': u'https://www.facebook.com/lovetravel/videos/993756194115169/', u'id': u'993756194115169'}, u'title': u'How cool is this Bubble Hotel?!'}]}, u'object_id': u'993756194115169', u'full_picture': u'https://scontent.xx.fbcdn.net/v/t15.0-10/p720x720/24134214_993757897448332_863344840891432960_n.jpg?oh=29a903d2c5efcaf33b73291e1472c0a6&oe=5A9CAE9C', u'source': u'https://video.xx.fbcdn.net/v/t42.1790-2/24213783_2056350271250861_463842243036315648_n.mp4?efg=eyJybHIiOjY3NSwicmxhIjo1MTIsInZlbmNvZGVfdGFnIjoic3ZlX3NkIn0%3D&rl=675&vabr=375&oh=29763283d60ff88b0853a916f3065bfb&oe=5A278956', u'message': u'How cool is this Bubble Hotel?! \\U0001f60d\\U0001f64c\\n\\U0001f30e France \\n\\U0001f3a5 Video Vision 360', u'id': u'607326919424767_993756194115169'}, {u'attachments': {u'data': [{u'url': u'https://www.facebook.com/lovetravel/videos/993257274165061/', u'media': {u'image': {u'src': u'https://scontent.xx.fbcdn.net/v/t15.0-10/p720x720/24290115_993260287498093_5272475580254650368_n.jpg?oh=87407a18f48cc4679d6a812d8096a73c&oe=5ACCA15C', u'width': 720, u'height': 720}}, u'type': u'video_inline', u'target': {u'url': u'https://www.facebook.com/lovetravel/videos/993257274165061/', u'id': u'993257274165061'}, u'title': u'This fence is full of bras!'}]}, u'object_id': u'993257274165061', u'full_picture': u'https://scontent.xx.fbcdn.net/v/t15.0-10/p720x720/24290115_993260287498093_5272475580254650368_n.jpg?oh=87407a18f48cc4679d6a812d8096a73c&oe=5ACCA15C', u'source': u'https://video.xx.fbcdn.net/v/t42.1790-2/23996830_641674396001495_5600743074603991040_n.mp4?efg=eyJybHIiOjg4OSwicmxhIjo1MTIsInZlbmNvZGVfdGFnIjoic3ZlX3NkIn0%3D&rl=889&vabr=494&oh=82a851d20fab9df2493ebbaab33ad445&oe=5A27463F', u'message': u\"This fence is full of bras! \\U0001f602 Tag and share with a friend who'd do this \\U0001f447\\n\\U0001f30e Central Otago, New Zealand\\n\\U0001f3a5 sidmaderazo\", u'id': u'607326919424767_993257274165061'}, {u'attachments': {u'data': [{u'url': u'https://www.facebook.com/lovetravel/videos/993176434173145/', u'media': {u'image': {u'src': u'https://scontent.xx.fbcdn.net/v/t15.0-10/p720x720/24196370_993176987506423_5996943332234756096_n.jpg?oh=599074faca498f72de25267f6e8002d6&oe=5A98D382', u'width': 720, u'height': 720}}, u'type': u'video_inline', u'target': {u'url': u'https://www.facebook.com/lovetravel/videos/993176434173145/', u'id': u'993176434173145'}, u'title': u'Sliding into the weekend like...'}]}, u'object_id': u'993176434173145', u'full_picture': u'https://scontent.xx.fbcdn.net/v/t15.0-10/p720x720/24196370_993176987506423_5996943332234756096_n.jpg?oh=599074faca498f72de25267f6e8002d6&oe=5A98D382', u'source': u'https://video.xx.fbcdn.net/v/t42.1790-2/23997045_146140719442735_5733808441403637760_n.mp4?efg=eyJybHIiOjgwNiwicmxhIjo1MTIsInZlbmNvZGVfdGFnIjoic3ZlX3NkIn0%3D&rl=806&vabr=448&oh=753f80935d93a4d4864c274aef5a64e8&oe=5A27330B', u'message': u\"Sliding into the weekend like... \\U0001f602 Tag and share with a friend you'd do this with \\U0001f447\\n\\U0001f30f Brazil \\n\\U0001f3a5 dianaferreira18\", u'id': u'607326919424767_993176434173145'}, {u'attachments': {u'data': [{u'url': u'https://www.facebook.com/lovetravel/videos/992463007577821/', u'media': {u'image': {u'src': u'https://scontent.xx.fbcdn.net/v/t15.0-10/s720x720/24187142_992471440910311_7365327918559395840_n.jpg?oh=c953f1e7278eae201e0730cd2c644d41&oe=5A9B2579', u'width': 720, u'height': 486}}, u'type': u'video_inline', u'target': {u'url': u'https://www.facebook.com/lovetravel/videos/992463007577821/', u'id': u'992463007577821'}, u'title': u'Inflatable Float Adventure!'}]}, u'object_id': u'992463007577821', u'full_picture': u'https://scontent.xx.fbcdn.net/v/t15.0-10/s720x720/24187142_992471440910311_7365327918559395840_n.jpg?oh=c953f1e7278eae201e0730cd2c644d41&oe=5A9B2579', u'source': u'https://video.xx.fbcdn.net/v/t42.1790-2/24149900_453675871695185_7866205875042516992_n.mp4?efg=eyJybHIiOjc5MiwicmxhIjo1MTIsInZlbmNvZGVfdGFnIjoic3ZlX3NkIn0%3D&rl=792&vabr=440&oh=46c43585a938acdfcef270d216141d81&oe=5A287293', u'message': u\"Inflatable Float Adventure! \\U0001f60d Tag a friend you'd do this with\\U0001f447\\n\\U0001f3a5 Foureyestwosouls - Juhani & Katri\", u'id': u'607326919424767_992463007577821'}, {u'attachments': {u'data': [{u'url': u'https://www.facebook.com/lovetravel/videos/992422674248521/', u'media': {u'image': {u'src': u'https://scontent.xx.fbcdn.net/v/t15.0-10/p720x720/24132822_992426507581471_8310347188991426560_n.jpg?oh=7f09cd3fa263fe5f27609e2e9b8ddce8&oe=5AC768B9', u'width': 720, u'height': 720}}, u'type': u'video_inline', u'target': {u'url': u'https://www.facebook.com/lovetravel/videos/992422674248521/', u'id': u'992422674248521'}, u'title': u'Incredible glass-bottom pool on a 500m cliff?!'}]}, u'object_id': u'992422674248521', u'full_picture': u'https://scontent.xx.fbcdn.net/v/t15.0-10/p720x720/24132822_992426507581471_8310347188991426560_n.jpg?oh=7f09cd3fa263fe5f27609e2e9b8ddce8&oe=5AC768B9', u'source': u'https://video.xx.fbcdn.net/v/t42.1790-2/23981173_419318111819384_459682223612755968_n.mp4?efg=eyJybHIiOjc4NiwicmxhIjo1MTIsInZlbmNvZGVfdGFnIjoic3ZlX3NkIn0%3D&rl=786&vabr=437&oh=5a1e051c4a48a3ed2211f8749ff36308&oe=5A286B29', u'message': u'Incredible glass-bottom pool on a 500m cliff?! \\U0001f631\\U0001f60d \\n\\U0001f30e Bali', u'id': u'607326919424767_992422674248521'}, {u'attachments': {u'data': [{u'url': u'https://www.facebook.com/lovetravel/videos/991850164305772/', u'media': {u'image': {u'src': u'https://scontent.xx.fbcdn.net/v/t15.0-10/p720x720/24029287_991853110972144_7932341632597229568_n.jpg?oh=7c2980d2b5521bc24e9279b6cf80479b&oe=5ACC471E', u'width': 720, u'height': 720}}, u'type': u'video_inline', u'target': {u'url': u'https://www.facebook.com/lovetravel/videos/991850164305772/', u'id': u'991850164305772'}, u'title': u'Deer Park in Japan!'}]}, u'object_id': u'991850164305772', u'full_picture': u'https://scontent.xx.fbcdn.net/v/t15.0-10/p720x720/24029287_991853110972144_7932341632597229568_n.jpg?oh=7c2980d2b5521bc24e9279b6cf80479b&oe=5ACC471E', u'source': u'https://video.xx.fbcdn.net/v/t42.1790-2/24110572_2023396664561753_4778685183098355712_n.mp4?efg=eyJybHIiOjkwMywicmxhIjo1MTIsInZlbmNvZGVfdGFnIjoic3ZlX3NkIn0%3D&rl=903&vabr=502&oh=8f2e4f550a5e2719c0dfd38a27240158&oe=5A28618C', u'message': u'Deer Park in Japan! \\U0001f60d\\U0001f1ef\\U0001f1f5', u'id': u'607326919424767_991850164305772'}, {u'full_picture': u'https://scontent.xx.fbcdn.net/v/t1.0-9/p720x720/23915484_991852900972165_8579151405380402778_n.jpg?oh=31d2f37da02be0b79aec5af345605128&oe=5A98952D', u'message': u'Explore Russia in 360! \\U0001f60d \\n\\U0001f30d Yamal Peninsula\\n\\U0001f4f8 AirPano', u'id': u'607326919424767_991854990971956', u'object_id': u'991852900972165', u'attachments': {u'data': [{u'description': u'Explore Russia in 360! \\U0001f60d \\n\\U0001f30d Yamal Peninsula\\n\\U0001f4f8 AirPano', u'url': u'https://www.facebook.com/lovetravel/photos/a.608961062594686.1073741828.607326919424767/991852900972165/?type=3', u'media': {u'image': {u'src': u'https://scontent.xx.fbcdn.net/v/t1.0-9/p720x720/23915484_991852900972165_8579151405380402778_n.jpg?oh=31d2f37da02be0b79aec5af345605128&oe=5A98952D', u'width': 720, u'height': 720}}, u'description_tags': [{u'length': 7, u'offset': 46, u'type': u'page', u'id': u'160795840631385', u'name': u'AirPano'}], u'type': u'photo', u'target': {u'url': u'https://www.facebook.com/lovetravel/photos/a.608961062594686.1073741828.607326919424767/991852900972165/?type=3', u'id': u'991852900972165'}}]}}, {u'attachments': {u'data': [{u'url': u'https://www.facebook.com/lovetravel/videos/991343067689815/', u'media': {u'image': {u'src': u'https://scontent.xx.fbcdn.net/v/t15.0-10/p720x720/24018664_991344417689680_3919009945084755968_n.jpg?oh=8755ad2c6cdc4e199f7a792a16b474f6&oe=5ACBD1F7', u'width': 720, u'height': 720}}, u'type': u'video_inline', u'target': {u'url': u'https://www.facebook.com/lovetravel/videos/991343067689815/', u'id': u'991343067689815'}, u'title': u'Most beautiful hotel-suite ever?!'}]}, u'object_id': u'991343067689815', u'full_picture': u'https://scontent.xx.fbcdn.net/v/t15.0-10/p720x720/24018664_991344417689680_3919009945084755968_n.jpg?oh=8755ad2c6cdc4e199f7a792a16b474f6&oe=5ACBD1F7', u'source': u'https://video.xx.fbcdn.net/v/t42.1790-2/23918833_175644499840606_2924003337000976384_n.mp4?efg=eyJybHIiOjUzNCwicmxhIjo1MTIsInZlbmNvZGVfdGFnIjoic3ZlX3NkIn0%3D&rl=534&vabr=297&oh=39e17fb262e7da28787072b1e1e88ab7&oe=5A287FD1', u'message': u'Most beautiful hotel-suite ever?! \\U0001f60d\\U0001f1ec\\U0001f1f7', u'id': u'607326919424767_991343067689815'}, {u'attachments': {u'data': [{u'url': u'https://www.facebook.com/lovetravel/videos/991193501038105/', u'media': {u'image': {u'src': u'https://scontent.xx.fbcdn.net/v/t15.0-10/p720x720/23900454_991197171037738_6446940791142088704_n.jpg?oh=bd1adc90baccb0d997f8a543a5b620c3&oe=5A8968B1', u'width': 720, u'height': 720}}, u'type': u'video_inline', u'target': {u'url': u'https://www.facebook.com/lovetravel/videos/991193501038105/', u'id': u'991193501038105'}, u'title': u'LARGEST Hot Air Balloon Festival in the World!'}]}, u'object_id': u'991193501038105', u'full_picture': u'https://scontent.xx.fbcdn.net/v/t15.0-10/p720x720/23900454_991197171037738_6446940791142088704_n.jpg?oh=bd1adc90baccb0d997f8a543a5b620c3&oe=5A8968B1', u'source': u'https://video.xx.fbcdn.net/v/t42.1790-2/23907219_108957353221317_4040864403564789760_n.mp4?efg=eyJybHIiOjY0NiwicmxhIjo1MTIsInZlbmNvZGVfdGFnIjoic3ZlX3NkIn0%3D&rl=646&vabr=359&oh=3667e6be5c526451c98bc8ed1b8e5412&oe=5A2772F8', u'message': u'LARGEST Hot Air Balloon Festival in the World! \\U0001f60d\\n\\U0001f30e Albuquerque, United States \\n\\U0001f3a5 Amazing Places On Our Planet', u'id': u'607326919424767_991193501038105'}, {u'attachments': {u'data': [{u'url': u'https://www.facebook.com/lovetravel/videos/988978597926262/', u'media': {u'image': {u'src': u'https://scontent.xx.fbcdn.net/v/t15.0-10/p720x720/23827184_988981321259323_5440096656190078976_n.jpg?oh=081e335929fcb8d737265bdddc138582&oe=5AD39547', u'width': 720, u'height': 720}}, u'type': u'video_inline', u'target': {u'url': u'https://www.facebook.com/lovetravel/videos/988978597926262/', u'id': u'988978597926262'}, u'title': u'91-FOOT AQUARIUM POOL IN VILLA?!'}]}, u'object_id': u'988978597926262', u'full_picture': u'https://scontent.xx.fbcdn.net/v/t15.0-10/p720x720/23827184_988981321259323_5440096656190078976_n.jpg?oh=081e335929fcb8d737265bdddc138582&oe=5AD39547', u'source': u'https://video.xx.fbcdn.net/v/t42.1790-2/23748124_1968430373410475_3624551179159076864_n.mp4?efg=eyJybHIiOjc1OSwicmxhIjo1MTIsInZlbmNvZGVfdGFnIjoic3ZlX3NkIn0%3D&rl=759&vabr=422&oh=df7bd09bf7a62f59bfb9293c48386842&oe=5A2765B5', u'message': u'91-FOOT AQUARIUM POOL IN VILLA?! \\U0001f632 \\n\\U0001f30f Villa on the Rocks, France\\n\\U0001f3a5 Video Vision 360', u'id': u'607326919424767_988978597926262'}, {u'attachments': {u'data': [{u'url': u'https://www.facebook.com/lovetravel/videos/989440841213371/', u'media': {u'image': {u'src': u'https://scontent.xx.fbcdn.net/v/t15.0-10/p720x720/23781218_989442221213233_2981232882866978816_n.jpg?oh=0040394358c8bb79cfa40dfe8d177d0d&oe=5A88ED13', u'width': 720, u'height': 720}}, u'type': u'video_inline', u'target': {u'url': u'https://www.facebook.com/lovetravel/videos/989440841213371/', u'id': u'989440841213371'}, u'title': u'Real-life TREEHOUSE?!'}]}, u'object_id': u'989440841213371', u'full_picture': u'https://scontent.xx.fbcdn.net/v/t15.0-10/p720x720/23781218_989442221213233_2981232882866978816_n.jpg?oh=0040394358c8bb79cfa40dfe8d177d0d&oe=5A88ED13', u'source': u'https://video.xx.fbcdn.net/v/t42.1790-2/23811340_149527632344341_1166789455789424640_n.mp4?efg=eyJybHIiOjkwNSwicmxhIjo1MTIsInZlbmNvZGVfdGFnIjoic3ZlX3NkIn0%3D&rl=905&vabr=503&oh=a46f2697892568d30ff4e70e8c180774&oe=5A285FCF', u'message': u'Real-life TREEHOUSE?! \\U0001f60d\\U0001f334\\n\\U0001f30e Tupper Lake, NY\\n\\U0001f3a5 LuyLife', u'id': u'607326919424767_989440841213371'}, {u'attachments': {u'data': [{u'url': u'https://www.facebook.com/lovetravel/videos/988900877934034/', u'media': {u'image': {u'src': u'https://scontent.xx.fbcdn.net/v/t15.0-10/p720x720/23900293_988902187933903_6956144266850598912_n.jpg?oh=e4a2ef12c9ff5d851ec0b78aaf658391&oe=5A9059D5', u'width': 720, u'height': 720}}, u'type': u'video_inline', u'target': {u'url': u'https://www.facebook.com/lovetravel/videos/988900877934034/', u'id': u'988900877934034'}, u'title': u'Heavenly Cat Sanctuary in Hawaiian Paradise!'}]}, u'object_id': u'988900877934034', u'full_picture': u'https://scontent.xx.fbcdn.net/v/t15.0-10/p720x720/23900293_988902187933903_6956144266850598912_n.jpg?oh=e4a2ef12c9ff5d851ec0b78aaf658391&oe=5A9059D5', u'source': u'https://video.xx.fbcdn.net/v/t42.1790-2/23777870_1572591512808772_8295625750497722368_n.mp4?efg=eyJybHIiOjc4MSwicmxhIjo1MTIsInZlbmNvZGVfdGFnIjoic3ZlX3NkIn0%3D&rl=781&vabr=434&oh=56bdfb62174d460a1da898c97fbf2d08&oe=5A274E8B', u'message': u'Heavenly Cat Sanctuary in Hawaiian Paradise! \\U0001f63b\\U0001f3d6\\n\\U0001f3a5 Lanai Cat Sanctuary', u'id': u'607326919424767_988900877934034'}, {u'attachments': {u'data': [{u'url': u'https://www.facebook.com/lovetravel/videos/988798017944320/', u'media': {u'image': {u'src': u'https://scontent.xx.fbcdn.net/v/t15.0-10/p720x720/23829622_988799074610881_4411580446974935040_n.jpg?oh=4b9b986a7adfbb1c4aa7d8c93678ab77&oe=5ACD3E0F', u'width': 720, u'height': 720}}, u'type': u'video_inline', u'target': {u'url': u'https://www.facebook.com/lovetravel/videos/988798017944320/', u'id': u'988798017944320'}, u'title': u'Wall of chewing gum?!'}]}, u'object_id': u'988798017944320', u'full_picture': u'https://scontent.xx.fbcdn.net/v/t15.0-10/p720x720/23829622_988799074610881_4411580446974935040_n.jpg?oh=4b9b986a7adfbb1c4aa7d8c93678ab77&oe=5ACD3E0F', u'source': u'https://video.xx.fbcdn.net/v/t42.1790-2/23744969_129116997779743_1136721901578616832_n.mp4?efg=eyJybHIiOjg1OCwicmxhIjo1MTIsInZlbmNvZGVfdGFnIjoic3ZlX3NkIn0%3D&rl=858&vabr=477&oh=15609b80d59aa5f3b0d86f07eba6f03c&oe=5A284A60', u'message': u\"Wall of chewing gum?! \\U0001f922 Tag a friend you'd go here with \\U0001f447\\n\\U0001f30e Seattle\", u'id': u'607326919424767_988798017944320'}, {u'attachments': {u'data': [{u'url': u'https://www.facebook.com/lovetravel/videos/988366577987464/', u'media': {u'image': {u'src': u'https://scontent.xx.fbcdn.net/v/t15.0-10/p720x720/23717303_988368597987262_9088795782164774912_n.jpg?oh=c646d8621d0dfb8cde05567b34ac4aa0&oe=5A958491', u'width': 720, u'height': 720}}, u'type': u'video_inline', u'target': {u'url': u'https://www.facebook.com/lovetravel/videos/988366577987464/', u'id': u'988366577987464'}, u'title': u\"'The Final Countdown' on a Giant Foot Piano\"}]}, u'object_id': u'988366577987464', u'full_picture': u'https://scontent.xx.fbcdn.net/v/t15.0-10/p720x720/23717303_988368597987262_9088795782164774912_n.jpg?oh=c646d8621d0dfb8cde05567b34ac4aa0&oe=5A958491', u'source': u'https://scontent.xx.fbcdn.net/v/t42.1790-4/23913194_133814680613480_4672339937423523840_n.mp4?efg=eyJ2ZW5jb2RlX3RhZyI6InN2ZV9zZCJ9&oh=a497e6084695e39e0aea7c579280d726&oe=5A28756F', u'message': u\"'The Final Countdown' on a Giant Foot Piano \\U0001f60d\\n\\U0001f30f Varazdin, Croatia\\n\\U0001f3a5 il Grande Piano\", u'id': u'607326919424767_988366577987464'}, {u'attachments': {u'data': [{u'url': u'https://www.facebook.com/lovetravel/videos/988186558005466/', u'media': {u'image': {u'src': u'https://scontent.xx.fbcdn.net/v/t15.0-10/p720x720/23771707_988189941338461_3976845953217855488_n.jpg?oh=ba8d426462679e7dad00dad9463c86da&oe=5A8D6427', u'width': 720, u'height': 720}}, u'type': u'video_inline', u'target': {u'url': u'https://www.facebook.com/lovetravel/videos/988186558005466/', u'id': u'988186558005466'}, u'title': u'Iceland is breathtaking!'}]}, u'object_id': u'988186558005466', u'full_picture': u'https://scontent.xx.fbcdn.net/v/t15.0-10/p720x720/23771707_988189941338461_3976845953217855488_n.jpg?oh=ba8d426462679e7dad00dad9463c86da&oe=5A8D6427', u'source': u'https://scontent.xx.fbcdn.net/v/t42.1790-4/23712916_1994765143872294_2931222154823335936_n.mp4?efg=eyJ2ZW5jb2RlX3RhZyI6InN2ZV9zZCJ9&oh=08d926803a662279c8b2a0ebc8d8b4d4&oe=5A278A12', u'message': u'Iceland is breathtaking! \\U0001f60d \\n\\U0001f30e Iceland\\n\\U0001f3a5 Wildworld', u'id': u'607326919424767_988186558005466'}, {u'attachments': {u'data': [{u'url': u'https://www.facebook.com/lovetravel/videos/987756411381814/', u'media': {u'image': {u'src': u'https://scontent.xx.fbcdn.net/v/t15.0-10/p720x720/23720886_987846164706172_8908043341938032640_n.jpg?oh=747ff5b1f19c2937d00f34bbf7c5fc76&oe=5A8D8011', u'width': 720, u'height': 720}}, u'type': u'video_inline', u'target': {u'url': u'https://www.facebook.com/lovetravel/videos/987756411381814/', u'id': u'987756411381814'}, u'title': u'Swimming with sharks?!'}]}, u'object_id': u'987756411381814', u'full_picture': u'https://scontent.xx.fbcdn.net/v/t15.0-10/p720x720/23720886_987846164706172_8908043341938032640_n.jpg?oh=747ff5b1f19c2937d00f34bbf7c5fc76&oe=5A8D8011', u'source': u'https://scontent.xx.fbcdn.net/v/t42.1790-4/23692724_2033099190259053_8668497614087389184_n.mp4?efg=eyJ2ZW5jb2RlX3RhZyI6InN2ZV9zZCJ9&oh=89ca18cbbfe9036ffa41a3377ac5b498&oe=5A28420A', u'message': u'Swimming with sharks?! \\U0001f988\\U0001f631\\n\\U0001f30e Bahamas\\n\\U0001f3a5 jojodegroof', u'id': u'607326919424767_987756411381814'}, {u'attachments': {u'data': [{u'url': u'https://www.facebook.com/lovetravel/videos/987244914766297/', u'media': {u'image': {u'src': u'https://scontent.xx.fbcdn.net/v/t15.0-10/p720x720/23721095_987248814765907_1050967214452113408_n.jpg?oh=b65661c5122aec2fda3709d46850c60b&oe=5AD00B42', u'width': 720, u'height': 720}}, u'type': u'video_inline', u'target': {u'url': u'https://www.facebook.com/lovetravel/videos/987244914766297/', u'id': u'987244914766297'}, u'title': u'This Natural Waterslide ROCKS!'}]}, u'object_id': u'987244914766297', u'full_picture': u'https://scontent.xx.fbcdn.net/v/t15.0-10/p720x720/23721095_987248814765907_1050967214452113408_n.jpg?oh=b65661c5122aec2fda3709d46850c60b&oe=5AD00B42', u'source': u'https://scontent.xx.fbcdn.net/v/t42.1790-4/23693518_461898620872245_8051860457796927488_n.mp4?efg=eyJ2ZW5jb2RlX3RhZyI6InN2ZV9zZCJ9&oh=200ec91d5e677eafcb4fbfceb4d1efb9&oe=5A273D56', u'message': u'This Natural Waterslide ROCKS! \\U0001f60d\\U0001f64c\\n \\n\\U0001f30f North Carolina, United States', u'id': u'607326919424767_987244914766297'}, {u'attachments': {u'data': [{u'url': u'https://www.facebook.com/lovetravel/videos/985098591647596/', u'media': {u'image': {u'src': u'https://scontent.xx.fbcdn.net/v/t15.0-10/p720x720/23627812_985102748313847_4499038277612863488_n.jpg?oh=f1f9cf39a3ed1a28fb65ccde71e4ad0a&oe=5AD0DE25', u'width': 720, u'height': 720}}, u'type': u'video_inline', u'target': {u'url': u'https://www.facebook.com/lovetravel/videos/985098591647596/', u'id': u'985098591647596'}, u'title': u'Suki the travelling cat!'}]}, u'object_id': u'985098591647596', u'full_picture': u'https://scontent.xx.fbcdn.net/v/t15.0-10/p720x720/23627812_985102748313847_4499038277612863488_n.jpg?oh=f1f9cf39a3ed1a28fb65ccde71e4ad0a&oe=5AD0DE25', u'source': u'https://scontent.xx.fbcdn.net/v/t42.1790-4/23617655_127508931257856_39109882003062784_n.mp4?efg=eyJ2ZW5jb2RlX3RhZyI6InN2ZV9zZCJ9&oh=a3e0151519f192e7045800da229ae455&oe=5A2742C2', u'message': u'Suki the travelling cat! \\U0001f431\\U0001f60d\\n\\U0001f3a5 Suki The Cat', u'id': u'607326919424767_985098591647596'}, {u'attachments': {u'data': [{u'url': u'https://www.facebook.com/lovetravel/videos/987070161450439/', u'media': {u'image': {u'src': u'https://scontent.xx.fbcdn.net/v/t15.0-10/p720x720/23721287_987071384783650_4988154002299420672_n.jpg?oh=1e5b15ad19e6d553e505bef2eb98893e&oe=5AD0EDA7', u'width': 720, u'height': 720}}, u'type': u'video_inline', u'target': {u'url': u'https://www.facebook.com/lovetravel/videos/987070161450439/', u'id': u'987070161450439'}, u'title': u\"World's Most Famous Swing!\"}]}, u'object_id': u'987070161450439', u'full_picture': u'https://scontent.xx.fbcdn.net/v/t15.0-10/p720x720/23721287_987071384783650_4988154002299420672_n.jpg?oh=1e5b15ad19e6d553e505bef2eb98893e&oe=5AD0EDA7', u'source': u'https://scontent.xx.fbcdn.net/v/t42.1790-4/23749071_212289822647076_1762249618696962048_n.mp4?efg=eyJ2ZW5jb2RlX3RhZyI6InN2ZV9zZCJ9&oh=41364a664be69683d999ee94fb0e0397&oe=5A2865F1', u'message': u\"World's Most Famous Swing! \\U0001f631 Tag a friend you'd try this with \\U0001f447\\U0001f3fb\\n \\n\\U0001f30f Queenstown, New Zealand\", u'id': u'607326919424767_987070161450439'}, {u'full_picture': u'https://scontent.xx.fbcdn.net/v/t1.0-9/s720x720/23754913_986950178129104_764487837241822807_n.jpg?oh=ae3da135b5b4949ea91406eb889bf575&oe=5AD25848', u'message': u'Share if you can relate \\U0001f602', u'id': u'607326919424767_986950381462417', u'object_id': u'986950178129104', u'attachments': {u'data': [{u'url': u'https://www.facebook.com/lovetravel/photos/a.946989285458527.1073741830.607326919424767/986950178129104/?type=3', u'media': {u'image': {u'src': u'https://scontent.xx.fbcdn.net/v/t1.0-9/s720x720/23754913_986950178129104_764487837241822807_n.jpg?oh=ae3da135b5b4949ea91406eb889bf575&oe=5AD25848', u'width': 577, u'height': 720}}, u'type': u'photo', u'description': u'Share if you can relate \\U0001f602', u'target': {u'url': u'https://www.facebook.com/lovetravel/photos/a.946989285458527.1073741830.607326919424767/986950178129104/?type=3', u'id': u'986950178129104'}}]}}, {u'attachments': {u'data': [{u'url': u'https://www.facebook.com/lovetravel/videos/984617488362373/', u'media': {u'image': {u'src': u'https://scontent.xx.fbcdn.net/v/t15.0-10/s720x720/23554403_984619145028874_3964855632888070144_n.jpg?oh=f45f0020ad938acd359a1f9de4631a35&oe=5A933281', u'width': 720, u'height': 360}}, u'type': u'video_inline', u'target': {u'url': u'https://www.facebook.com/lovetravel/videos/984617488362373/', u'id': u'984617488362373'}, u'title': u'Explore the Maldives in VR 360!'}]}, u'object_id': u'984617488362373', u'full_picture': u'https://scontent.xx.fbcdn.net/v/t15.0-10/s720x720/23554403_984619145028874_3964855632888070144_n.jpg?oh=f45f0020ad938acd359a1f9de4631a35&oe=5A933281', u'source': u'https://scontent.xx.fbcdn.net/v/t42.1790-4/10000000_947155855422630_3182297919948587008_n.mp4?efg=eyJ2ZW5jb2RlX3RhZyI6InN2ZTM2MF9xZl8zODR3X2NyZl8yMV9tYWluXzQuMl9wMTBfc2QifQ%3D%3D&oh=745e8c4fb1bdc4cf80fc1da7bb69cf19&oe=5A2786C6', u'message': u'Explore the Maldives in VR 360! \\U0001f60d\\n\\U0001f30f Amilla Fushi, Maldives\\n\\U0001f3a5 Sam Earp', u'id': u'607326919424767_984617488362373'}, {u'attachments': {u'data': [{u'url': u'https://www.facebook.com/lovetravel/videos/984496851707770/', u'media': {u'image': {u'src': u'https://scontent.xx.fbcdn.net/v/t15.0-10/23519733_984498431707612_6573836686529134592_n.jpg?oh=a86c73c9f488a3f108f1678e0819ac40&oe=5AD4AE41', u'width': 640, u'height': 640}}, u'type': u'video_inline', u'target': {u'url': u'https://www.facebook.com/lovetravel/videos/984496851707770/', u'id': u'984496851707770'}, u'title': u'100% Clear Kayaks?!'}]}, u'object_id': u'984496851707770', u'full_picture': u'https://scontent.xx.fbcdn.net/v/t15.0-10/23519733_984498431707612_6573836686529134592_n.jpg?oh=a86c73c9f488a3f108f1678e0819ac40&oe=5AD4AE41', u'source': u'https://scontent.xx.fbcdn.net/v/t42.1790-4/23534120_239020699965091_6787998698098917376_n.mp4?efg=eyJ2ZW5jb2RlX3RhZyI6InN2ZV9zZCJ9&oh=58973feacbae3caee1c9b73ba21ecd09&oe=5A2873DC', u'message': u\"100% Clear Kayaks?! \\U0001f62e\\U0001f6a3\\u200d\\u2640\\ufe0f Tag a friend you'd do this with\\U0001f447\", u'id': u'607326919424767_984496851707770'}]\n"
     ]
    }
   ],
   "source": [
    "posts = graph.get_object('lovetravel/posts?fields=attachments,id,object_id,message,description,full_picture,source')\n",
    "print(posts['data'])"
   ]
  },
  {
   "cell_type": "code",
   "execution_count": 24,
   "metadata": {},
   "outputs": [
    {
     "name": "stdout",
     "output_type": "stream",
     "text": [
      "raw attachement of last message :{u'attachments': {u'data': [{u'url': u'https://www.facebook.com/lovetravel/videos/995556340601821/', u'media': {u'image': {u'src': u'https://scontent.xx.fbcdn.net/v/t15.0-10/p720x720/24243572_995559210601534_7328429751440244736_n.jpg?oh=0cd8f5bdb282680d6319c6260e84bf94&oe=5AD4CD71', u'width': 720, u'height': 720}}, u'type': u'video_inline', u'target': {u'url': u'https://www.facebook.com/lovetravel/videos/995556340601821/', u'id': u'995556340601821'}, u'title': u'Hot Springs with an INCREDIBLE view!'}]}, u'object_id': u'995556340601821', u'full_picture': u'https://scontent.xx.fbcdn.net/v/t15.0-10/p720x720/24243572_995559210601534_7328429751440244736_n.jpg?oh=0cd8f5bdb282680d6319c6260e84bf94&oe=5AD4CD71', u'source': u'https://video.xx.fbcdn.net/v/t42.1790-2/24641624_370991709992990_8955529707248418816_n.mp4?efg=eyJybHIiOjUyNywicmxhIjo1MTIsInZlbmNvZGVfdGFnIjoic3ZlX3NkIn0%3D&rl=527&vabr=293&oh=0f30987526cf2f20bb510f454081ea21&oe=5A284B69', u'message': u'Hot Springs with an INCREDIBLE view! \\U0001f60d\\n\\U0001f30f Japan\\n\\U0001f3a5 monique_trips', u'id': u'607326919424767_995556340601821'}\n"
     ]
    }
   ],
   "source": [
    "print(\"raw attachement of last message :\" + str(posts['data'][0]))"
   ]
  },
  {
   "cell_type": "markdown",
   "metadata": {},
   "source": [
    "### GET NB OF LIKES AND FOLLOWERS OF THE PAGE"
   ]
  },
  {
   "cell_type": "code",
   "execution_count": 25,
   "metadata": {},
   "outputs": [
    {
     "name": "stdout",
     "output_type": "stream",
     "text": [
      "{u'id': u'607326919424767', u'fan_count': 469462}\n"
     ]
    }
   ],
   "source": [
    "fan_count = graph.get_object('lovetravel/?fields=fan_count')\n",
    "print(fan_count)"
   ]
  },
  {
   "cell_type": "markdown",
   "metadata": {},
   "source": [
    "### look to this link to see what info we can get : https://developers.facebook.com/docs/graph-api/reference/page/"
   ]
  },
  {
   "cell_type": "markdown",
   "metadata": {},
   "source": [
    " # Event Scrapping"
   ]
  },
  {
   "cell_type": "markdown",
   "metadata": {},
   "source": [
    "### Get posts information "
   ]
  },
  {
   "cell_type": "code",
   "execution_count": 43,
   "metadata": {},
   "outputs": [
    {
     "name": "stdout",
     "output_type": "stream",
     "text": [
      "1\n",
      "[{u'description': u'Friends of Caturday \\U0001f431\\U0001f431\\U0001f431\\n\\nFirst Caturday is a day to reclaim the glory of the outdoors for our feline friends! \\U0001f43e \\U0001f431\\U0001f332\\n\\nIt is a day for delightful outdoor cat-napping and socializing. \\U0001f46f\\U0001f63a\\nIt is where we can freely exchange information, friendship, and joy to help make our cats happy and healthy. \\U0001f4da\\u2764\\ufe0f\\U0001f63d\\nSome cats actually like leash walks, others stroller walks, and still others just to come to the park in their pet carriers to listen to the birds singing \\U0001f640\\U0001f681\\U0001f424.\\n\\n\\u261d\\U0001f3fc\\U0001f4a1How to walk your cat and why you should (try) :\\n\\n\\U0001f4da\\U0001f393 Not all cats will want to be walked on a leash, but every cat should be given the opportunity.\\n\\n\"First, let me start by saying not every cat is a candidate for leash training. As with any type of training, there\\u2019s a learning curve but if your cat is easily stressed or you think she\\u2019ll never be comfortable, then don\\u2019t do it. You know your cat. Use that knowledge to make a sound decision that will benefit her and not stress or endanger her. Age is also a factor here. It\\u2019s much easier to train a kitten to accept leash-walking.\" (\\U0001f469\\u200d\\U0001f52c Pam Johnson-Bennett, Cat Behavior Expert)\\n\\n\\u23f3\\u23f0 If you plan on introducing your kitty to a leash, train often and slowly. You are literally introducing them to a whole new world \\U0001f30f, so be patient and let your cat walk you or just enjoy a spot in the sun together \\U0001f31e. \\n\\n\\u2764\\ufe0f\\u2764\\ufe0f Do not bring your cat to First Caturday if they are not sufficiently leash trained or comfortable with the outdoors in a stroller/carrier! \\u2764\\ufe0f\\u2764\\ufe0f\\n\\n\"Cats should be trained indoors first. \\nFor the sake of safety, it\\u2019s crucial to start training indoors....purchasing a harness and leaving it inside the house for your cat to play with and smell \\U0001f443, so he isn\\u2019t afraid of it. Next, strap your cat into the harness and make sure it\\u2019s properly fitted and that your pet is comfortable. Then let kitty wear the harness around the house. Let him drag the leash and grow accustomed to having something strapped around his body.\" (\\U0001f469\\u200d\\U0001f33e Sherry Woodard, Animal Behavior Consultant)\\n\\n+PROS+\\n1. Build their confidence \\U0001f638!\\n2. Walking your furbaby can help strengthen the bond between a cat and his owner, giving the pair something to experience together \\u269b\\ufe0f.\\n3. Walking a cat can provide your pet with a more enriched life \\U0001f60c.\\n4. When out for a walk \\u2014 rather than prowling an apartment \\u2014 a cat will use his brain in different and more thoughtful ways \\U0001f4ad. \\n\\nIt\\'s completely fine if a cat decides, nope, no park for me please\\u261d\\U0001f3fc\\U0001f44d\\U0001f3fb. Totally fine if a cat doesn\\'t like First Caturday and wants to go straight home \\U0001f645\\U0001f63f\\U0001f3e1. Or it\\'s completely fine if a cat decides to stay inside a pet-carrier and not come out on the leash \\U0001f431\\U0001f6f6\\U0001f699.\\n\\nIf you try bringing your cat in one of these safe and supervised ways, you may find that your cat likes fresh air and the change of scenery \\U0001f64c\\U0001f3fc\\U0001f324\\U0001f30f. This is one more option to enrich your cat\\'s life \\U0001f355. If you have a shy kitty, you can skip the big group \\U0001f468\\u200d\\U0001f469\\u200d\\U0001f467\\u200d\\U0001f466, and just try sitting in your backyard \\U0001f3e1 with your cat in the carrier. And some kitties just don\\'t like the outdoors \\U0001f33f and that\\'s a-okay! Respect their choice to stay inside. \\u270b\\n\\nWith or without a cat, you\\'re welcome at #firstcaturday. \\U0001f43e\\U0001f981\\U0001f343\\n\\nMEET BY THE PLAYGROUND\\n\\nIf you\\u2019d like to stay connected, follow along at https://instagram.com/firstcaturday or https://facebook.com/firstcaturday, and help this idea spread by sharing with other friendly cat-owners! \\U0001f48f \\U0001f431\\u200d\\U0001f680\\n\\n#firstcaturday / #firstcaturdaysanfrancisco\\n\\n\\U0001f31e \\U0001f640 REMEMBER that cats cannot sweat to cool themselves down. If they are starting to overheat their huffing will be a sure sign that it\\'s time to find some shade, water or some time in the AC. Kitties usually like licking condensation off water bottles for a little hydration \\U0001f4a7. If it\\u2019s too hot for your cat, stay home and come again at the next First Caturday! \\u2744\\ufe0f\\U0001f3d4\\ufe0f\\n\\n\\U0001f640 \\U0001f41bKEEP IN MIND: you will be exposing your cat to fleas and ticks with frequent visits to the outdoors so be prepared with pre-applied medications to prevent them!\\n\\nFeline immunodeficiency virus (FIV) is responsible for disease in cats that is similar to HIV infections in humans. For that reason, it is often referred to as kitty AIDS, but it must be borne in mind that it is not contagious to humans or other animals. (\\U0001f469\\u200d\\u2695\\ufe0f Dr. Lila Miller, D.V.M., ASPCA.) FIV is passed from mother to baby and through a deep bite in an aggressive fight.\\n\\nFIV is not easily passed between cats as it cannot be spread casually through litter boxes, food, and water bowls, or snuggling and playing. \\U0001f3e5\\n\\n\\U0001f43e\\U0001f63f PLEASE BE AWARE that this is an unofficial social gathering, organized only by cats. Participate responsibly and caringly for your human, your furbabies, and the environment! And although this should be obvious: if you have never taken your cat or human outdoors in a safe and controlled way, this event is not the first time to do so \\U0001f63e. By participating, you agree that the well-being and safety of your cat are strictly your responsibility. \\U0001f42f\\U0001f335\\U0001f43e\\n\\nSOME researchers speculate that once the global feline consciousness has been restored, wars across the lands will cease and a blissful peace will erupt here on Earth \\U0001f639 \\U0001f914.', u'start_time': u'2017-07-01T13:30:00-0700', u'place': {u'id': u'110481468974122', u'name': u'Mission Dolores Park', u'location': {u'city': u'San Francisco', u'zip': u'94103', u'country': u'United States', u'longitude': -122.4275, u'state': u'CA', u'latitude': 37.758333333333}}, u'end_time': u'2018-03-31T16:30:00-0700', u'event_times': [{u'start_time': u'2018-03-31T13:30:00-0700', u'id': u'1510966718958147', u'end_time': u'2018-03-31T16:30:00-0700'}, {u'start_time': u'2018-01-13T13:30:00-0800', u'id': u'1510966715624814', u'end_time': u'2018-01-13T16:30:00-0800'}, {u'start_time': u'2018-01-06T13:30:00-0800', u'id': u'1510966712291481', u'end_time': u'2018-01-06T16:30:00-0800'}, {u'start_time': u'2018-01-20T13:30:00-0800', u'id': u'1510966708958148', u'end_time': u'2018-01-20T16:30:00-0800'}, {u'start_time': u'2018-02-03T13:30:00-0800', u'id': u'1510966705624815', u'end_time': u'2018-02-03T16:30:00-0800'}, {u'start_time': u'2018-01-27T13:30:00-0800', u'id': u'1510966702291482', u'end_time': u'2018-01-27T16:30:00-0800'}, {u'start_time': u'2018-02-10T13:30:00-0800', u'id': u'1510966698958149', u'end_time': u'2018-02-10T16:30:00-0800'}, {u'start_time': u'2018-02-17T13:30:00-0800', u'id': u'1510966695624816', u'end_time': u'2018-02-17T16:30:00-0800'}, {u'start_time': u'2018-02-24T13:30:00-0800', u'id': u'1510966692291483', u'end_time': u'2018-02-24T16:30:00-0800'}, {u'start_time': u'2018-03-10T13:30:00-0800', u'id': u'1510966688958150', u'end_time': u'2018-03-10T16:30:00-0800'}, {u'start_time': u'2018-03-24T13:30:00-0700', u'id': u'1510966685624817', u'end_time': u'2018-03-24T16:30:00-0700'}, {u'start_time': u'2018-03-17T13:30:00-0700', u'id': u'1510966682291484', u'end_time': u'2018-03-17T16:30:00-0700'}, {u'start_time': u'2018-03-03T13:30:00-0800', u'id': u'1510966678958151', u'end_time': u'2018-03-03T16:30:00-0800'}, {u'start_time': u'2017-10-14T13:30:00-0700', u'id': u'1469491939772292', u'end_time': u'2017-10-14T16:30:00-0700'}, {u'start_time': u'2017-11-04T13:30:00-0700', u'id': u'1464314610290025', u'end_time': u'2017-11-04T16:30:00-0700'}, {u'start_time': u'2017-12-02T13:30:00-0800', u'id': u'1464314606956692', u'end_time': u'2017-12-02T16:30:00-0800'}, {u'start_time': u'2017-09-09T13:30:00-0700', u'id': u'1439734756081344', u'end_time': u'2017-09-09T16:30:00-0700'}, {u'start_time': u'2017-07-01T13:30:00-0700', u'id': u'1360150417373112', u'end_time': u'2017-07-01T16:30:00-0700'}, {u'start_time': u'2017-08-05T13:30:00-0700', u'id': u'1360150410706446', u'end_time': u'2017-08-05T16:30:00-0700'}], u'id': u'1360150400706447', u'name': u'First Caturday San Francisco at Dolores Park'}]\n",
      "1360150400706447\n"
     ]
    }
   ],
   "source": [
    "#search for a user id\n",
    "search = graph.get_object('search?q=First+Caturday+San+Francisco&type=event')\n",
    "print(len(search['data']))\n",
    "print(search['data'])\n",
    "id = search['data'][0][\"id\"]\n",
    "print(id)\n",
    " "
   ]
  },
  {
   "cell_type": "code",
   "execution_count": 45,
   "metadata": {},
   "outputs": [
    {
     "name": "stdout",
     "output_type": "stream",
     "text": [
      "{u'description': u'Friends of Caturday \\U0001f431\\U0001f431\\U0001f431\\n\\nFirst Caturday is a day to reclaim the glory of the outdoors for our feline friends! \\U0001f43e \\U0001f431\\U0001f332\\n\\nIt is a day for delightful outdoor cat-napping and socializing. \\U0001f46f\\U0001f63a\\nIt is where we can freely exchange information, friendship, and joy to help make our cats happy and healthy. \\U0001f4da\\u2764\\ufe0f\\U0001f63d\\nSome cats actually like leash walks, others stroller walks, and still others just to come to the park in their pet carriers to listen to the birds singing \\U0001f640\\U0001f681\\U0001f424.\\n\\n\\u261d\\U0001f3fc\\U0001f4a1How to walk your cat and why you should (try) :\\n\\n\\U0001f4da\\U0001f393 Not all cats will want to be walked on a leash, but every cat should be given the opportunity.\\n\\n\"First, let me start by saying not every cat is a candidate for leash training. As with any type of training, there\\u2019s a learning curve but if your cat is easily stressed or you think she\\u2019ll never be comfortable, then don\\u2019t do it. You know your cat. Use that knowledge to make a sound decision that will benefit her and not stress or endanger her. Age is also a factor here. It\\u2019s much easier to train a kitten to accept leash-walking.\" (\\U0001f469\\u200d\\U0001f52c Pam Johnson-Bennett, Cat Behavior Expert)\\n\\n\\u23f3\\u23f0 If you plan on introducing your kitty to a leash, train often and slowly. You are literally introducing them to a whole new world \\U0001f30f, so be patient and let your cat walk you or just enjoy a spot in the sun together \\U0001f31e. \\n\\n\\u2764\\ufe0f\\u2764\\ufe0f Do not bring your cat to First Caturday if they are not sufficiently leash trained or comfortable with the outdoors in a stroller/carrier! \\u2764\\ufe0f\\u2764\\ufe0f\\n\\n\"Cats should be trained indoors first. \\nFor the sake of safety, it\\u2019s crucial to start training indoors....purchasing a harness and leaving it inside the house for your cat to play with and smell \\U0001f443, so he isn\\u2019t afraid of it. Next, strap your cat into the harness and make sure it\\u2019s properly fitted and that your pet is comfortable. Then let kitty wear the harness around the house. Let him drag the leash and grow accustomed to having something strapped around his body.\" (\\U0001f469\\u200d\\U0001f33e Sherry Woodard, Animal Behavior Consultant)\\n\\n+PROS+\\n1. Build their confidence \\U0001f638!\\n2. Walking your furbaby can help strengthen the bond between a cat and his owner, giving the pair something to experience together \\u269b\\ufe0f.\\n3. Walking a cat can provide your pet with a more enriched life \\U0001f60c.\\n4. When out for a walk \\u2014 rather than prowling an apartment \\u2014 a cat will use his brain in different and more thoughtful ways \\U0001f4ad. \\n\\nIt\\'s completely fine if a cat decides, nope, no park for me please\\u261d\\U0001f3fc\\U0001f44d\\U0001f3fb. Totally fine if a cat doesn\\'t like First Caturday and wants to go straight home \\U0001f645\\U0001f63f\\U0001f3e1. Or it\\'s completely fine if a cat decides to stay inside a pet-carrier and not come out on the leash \\U0001f431\\U0001f6f6\\U0001f699.\\n\\nIf you try bringing your cat in one of these safe and supervised ways, you may find that your cat likes fresh air and the change of scenery \\U0001f64c\\U0001f3fc\\U0001f324\\U0001f30f. This is one more option to enrich your cat\\'s life \\U0001f355. If you have a shy kitty, you can skip the big group \\U0001f468\\u200d\\U0001f469\\u200d\\U0001f467\\u200d\\U0001f466, and just try sitting in your backyard \\U0001f3e1 with your cat in the carrier. And some kitties just don\\'t like the outdoors \\U0001f33f and that\\'s a-okay! Respect their choice to stay inside. \\u270b\\n\\nWith or without a cat, you\\'re welcome at #firstcaturday. \\U0001f43e\\U0001f981\\U0001f343\\n\\nMEET BY THE PLAYGROUND\\n\\nIf you\\u2019d like to stay connected, follow along at https://instagram.com/firstcaturday or https://facebook.com/firstcaturday, and help this idea spread by sharing with other friendly cat-owners! \\U0001f48f \\U0001f431\\u200d\\U0001f680\\n\\n#firstcaturday / #firstcaturdaysanfrancisco\\n\\n\\U0001f31e \\U0001f640 REMEMBER that cats cannot sweat to cool themselves down. If they are starting to overheat their huffing will be a sure sign that it\\'s time to find some shade, water or some time in the AC. Kitties usually like licking condensation off water bottles for a little hydration \\U0001f4a7. If it\\u2019s too hot for your cat, stay home and come again at the next First Caturday! \\u2744\\ufe0f\\U0001f3d4\\ufe0f\\n\\n\\U0001f640 \\U0001f41bKEEP IN MIND: you will be exposing your cat to fleas and ticks with frequent visits to the outdoors so be prepared with pre-applied medications to prevent them!\\n\\nFeline immunodeficiency virus (FIV) is responsible for disease in cats that is similar to HIV infections in humans. For that reason, it is often referred to as kitty AIDS, but it must be borne in mind that it is not contagious to humans or other animals. (\\U0001f469\\u200d\\u2695\\ufe0f Dr. Lila Miller, D.V.M., ASPCA.) FIV is passed from mother to baby and through a deep bite in an aggressive fight.\\n\\nFIV is not easily passed between cats as it cannot be spread casually through litter boxes, food, and water bowls, or snuggling and playing. \\U0001f3e5\\n\\n\\U0001f43e\\U0001f63f PLEASE BE AWARE that this is an unofficial social gathering, organized only by cats. Participate responsibly and caringly for your human, your furbabies, and the environment! And although this should be obvious: if you have never taken your cat or human outdoors in a safe and controlled way, this event is not the first time to do so \\U0001f63e. By participating, you agree that the well-being and safety of your cat are strictly your responsibility. \\U0001f42f\\U0001f335\\U0001f43e\\n\\nSOME researchers speculate that once the global feline consciousness has been restored, wars across the lands will cease and a blissful peace will erupt here on Earth \\U0001f639 \\U0001f914.', u'start_time': u'2017-07-01T13:30:00-0700', u'place': {u'id': u'110481468974122', u'name': u'Mission Dolores Park', u'location': {u'city': u'San Francisco', u'zip': u'94103', u'country': u'United States', u'longitude': -122.4275, u'state': u'CA', u'latitude': 37.758333333333}}, u'end_time': u'2018-03-31T16:30:00-0700', u'event_times': [{u'start_time': u'2018-03-31T13:30:00-0700', u'id': u'1510966718958147', u'end_time': u'2018-03-31T16:30:00-0700'}, {u'start_time': u'2018-01-13T13:30:00-0800', u'id': u'1510966715624814', u'end_time': u'2018-01-13T16:30:00-0800'}, {u'start_time': u'2018-01-06T13:30:00-0800', u'id': u'1510966712291481', u'end_time': u'2018-01-06T16:30:00-0800'}, {u'start_time': u'2018-01-20T13:30:00-0800', u'id': u'1510966708958148', u'end_time': u'2018-01-20T16:30:00-0800'}, {u'start_time': u'2018-02-03T13:30:00-0800', u'id': u'1510966705624815', u'end_time': u'2018-02-03T16:30:00-0800'}, {u'start_time': u'2018-01-27T13:30:00-0800', u'id': u'1510966702291482', u'end_time': u'2018-01-27T16:30:00-0800'}, {u'start_time': u'2018-02-10T13:30:00-0800', u'id': u'1510966698958149', u'end_time': u'2018-02-10T16:30:00-0800'}, {u'start_time': u'2018-02-17T13:30:00-0800', u'id': u'1510966695624816', u'end_time': u'2018-02-17T16:30:00-0800'}, {u'start_time': u'2018-02-24T13:30:00-0800', u'id': u'1510966692291483', u'end_time': u'2018-02-24T16:30:00-0800'}, {u'start_time': u'2018-03-10T13:30:00-0800', u'id': u'1510966688958150', u'end_time': u'2018-03-10T16:30:00-0800'}, {u'start_time': u'2018-03-24T13:30:00-0700', u'id': u'1510966685624817', u'end_time': u'2018-03-24T16:30:00-0700'}, {u'start_time': u'2018-03-17T13:30:00-0700', u'id': u'1510966682291484', u'end_time': u'2018-03-17T16:30:00-0700'}, {u'start_time': u'2018-03-03T13:30:00-0800', u'id': u'1510966678958151', u'end_time': u'2018-03-03T16:30:00-0800'}, {u'start_time': u'2017-10-14T13:30:00-0700', u'id': u'1469491939772292', u'end_time': u'2017-10-14T16:30:00-0700'}, {u'start_time': u'2017-11-04T13:30:00-0700', u'id': u'1464314610290025', u'end_time': u'2017-11-04T16:30:00-0700'}, {u'start_time': u'2017-12-02T13:30:00-0800', u'id': u'1464314606956692', u'end_time': u'2017-12-02T16:30:00-0800'}, {u'start_time': u'2017-09-09T13:30:00-0700', u'id': u'1439734756081344', u'end_time': u'2017-09-09T16:30:00-0700'}, {u'start_time': u'2017-07-01T13:30:00-0700', u'id': u'1360150417373112', u'end_time': u'2017-07-01T16:30:00-0700'}, {u'start_time': u'2017-08-05T13:30:00-0700', u'id': u'1360150410706446', u'end_time': u'2017-08-05T16:30:00-0700'}], u'id': u'1360150400706447', u'name': u'First Caturday San Francisco at Dolores Park'}\n",
      "interested in going : 9271\n"
     ]
    },
    {
     "name": "stdout",
     "output_type": "stream",
     "text": [
      "attending going : 1472\n",
      "maybe going : 9271\n",
      "noreply : 1871\n",
      "decline going : 0\n"
     ]
    }
   ],
   "source": [
    "event = graph.get_object('1360150400706447')\n",
    "print(event)\n",
    "interested_count = graph.get_object('1360150400706447/?fields=interested_count')['interested_count']\n",
    "print(\"interested in going : \" + str(interested_count))\n",
    "attending_count = graph.get_object('1360150400706447/?fields=attending_count')['attending_count']\n",
    "print(\"attending going : \" + str(attending_count))\n",
    "maybe_count = graph.get_object('1360150400706447/?fields=maybe_count')['maybe_count']\n",
    "print(\"maybe going : \" + str(maybe_count))\n",
    "noreply_count = graph.get_object('1360150400706447/?fields=noreply_count')['noreply_count']\n",
    "print(\"noreply : \" + str(noreply_count))\n",
    "declined_count = graph.get_object('1360150400706447/?fields=declined_count')['declined_count']\n",
    "print(\"decline going : \" + str(declined_count))"
   ]
  },
  {
   "cell_type": "code",
   "execution_count": 46,
   "metadata": {},
   "outputs": [
    {
     "name": "stdout",
     "output_type": "stream",
     "text": [
      "{u'id': u'1360150400706447_1523767744344711', u'message': u\"Meooowwwww I just realized yesterday was our last first Caturday of 2017! :O\\n\\nI don't know if this fb event is ephemeral. There is a chance we have to let this this event expire and create a new event page at some point, so make sure to follow our page at fb.com/firstcaturday so we can stay connected for 2018! <3\\n\\nSending luv to you and your kitty for the holiday season \\U0001f384\\U0001f63d\\nSee you all next year!!!\", u'story': u'First Caturday shared a link to the event: First Caturday San Francisco at Dolores Park.', u'updated_time': u'2017-12-04T02:12:21+0000'}\n"
     ]
    }
   ],
   "source": [
    "event_posts = graph.get_object('1360150400706447/feed')\n",
    "print(event_posts['data'][0])"
   ]
  },
  {
   "cell_type": "code",
   "execution_count": 49,
   "metadata": {},
   "outputs": [
    {
     "name": "stdout",
     "output_type": "stream",
     "text": [
      "{u'cover': {u'source': u'https://scontent.xx.fbcdn.net/v/t1.0-9/p720x720/19059444_1486462508059310_7187623798668266352_n.jpg?oh=c39983c8d5b40efc8234af0dd73bf07d&oe=5A8E162F', u'offset_x': 0, u'offset_y': 38, u'id': u'1486462508059310'}, u'id': u'1360150400706447'}\n"
     ]
    }
   ],
   "source": [
    "event_cover_img = graph.get_object('1360150400706447/?fields=cover')\n",
    "print(event_cover_img)"
   ]
  },
  {
   "cell_type": "markdown",
   "metadata": {},
   "source": [
    "### look to this link to see what info we can get : https://developers.facebook.com/docs/graph-api/reference/event/"
   ]
  }
 ],
 "metadata": {
  "anaconda-cloud": {},
  "kernelspec": {
   "display_name": "Python [conda root]",
   "language": "python",
   "name": "conda-root-py"
  },
  "language_info": {
   "codemirror_mode": {
    "name": "ipython",
    "version": 2
   },
   "file_extension": ".py",
   "mimetype": "text/x-python",
   "name": "python",
   "nbconvert_exporter": "python",
   "pygments_lexer": "ipython2",
   "version": "2.7.12"
  }
 },
 "nbformat": 4,
 "nbformat_minor": 1
}
